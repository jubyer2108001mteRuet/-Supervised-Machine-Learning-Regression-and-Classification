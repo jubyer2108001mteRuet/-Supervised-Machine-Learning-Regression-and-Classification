{
  "nbformat": 4,
  "nbformat_minor": 0,
  "metadata": {
    "colab": {
      "provenance": []
    },
    "kernelspec": {
      "name": "python3",
      "display_name": "Python 3"
    },
    "language_info": {
      "name": "python"
    }
  },
  "cells": [
    {
      "cell_type": "code",
      "execution_count": null,
      "metadata": {
        "colab": {
          "base_uri": "https://localhost:8080/"
        },
        "id": "bNZd4TUCCfAL",
        "outputId": "97f144f9-14a0-41dc-8c0d-27c5e6e36ed2"
      },
      "outputs": [
        {
          "output_type": "stream",
          "name": "stdout",
          "text": [
            "Enter input a: 5\n",
            "5\n",
            "6\n",
            "7\n",
            "8\n"
          ]
        }
      ],
      "source": [
        "a=input(\"Enter input a: \")\n",
        "b=int(a)\n",
        "while(b<9):\n",
        "    print(b)\n",
        "    b+=1\n"
      ]
    },
    {
      "cell_type": "markdown",
      "source": [
        "okay so here this is a code to first check how google colab works and it seems that it works on python."
      ],
      "metadata": {
        "id": "BZBAtHx9Djp5"
      }
    },
    {
      "cell_type": "markdown",
      "source": [
        "now we will learn about python strings:\n"
      ],
      "metadata": {
        "id": "E6g4hX00FkfF"
      }
    },
    {
      "cell_type": "code",
      "source": [
        "course='pythons Course for \"begineers\"'# to get exactly what there\n",
        "# is we can use '''''' tripple quote\n",
        "#even it can be acessed as array as shown bellow:\n",
        "print(course[2])\n",
        "print(course[3:7])\n",
        "print(course)\n"
      ],
      "metadata": {
        "colab": {
          "base_uri": "https://localhost:8080/"
        },
        "id": "NrBQv7lXFpgq",
        "outputId": "52b3e2d1-ef24-4442-fbcd-537cd13baea9"
      },
      "execution_count": null,
      "outputs": [
        {
          "output_type": "stream",
          "name": "stdout",
          "text": [
            "t\n",
            "hons\n",
            "pythons Course for \"begineers\"\n"
          ]
        }
      ]
    },
    {
      "cell_type": "code",
      "source": [
        "first='John'\n",
        "last=\"Wick\"\n",
        "print(first+'['+last+\"]\")\n",
        "msg=f'{first}[{last}] is a fighter'\n",
        "print(msg)\n"
      ],
      "metadata": {
        "colab": {
          "base_uri": "https://localhost:8080/"
        },
        "id": "a75MOEH9HnCN",
        "outputId": "51eb938c-e5c6-44c8-c9ad-de1142e49065"
      },
      "execution_count": null,
      "outputs": [
        {
          "output_type": "stream",
          "name": "stdout",
          "text": [
            "John[Wick]\n",
            "John [Wick] is a fighter\n"
          ]
        }
      ]
    },
    {
      "cell_type": "code",
      "source": [
        "#lets build a guessing game:\n",
        "secretWord=\"tasmia\"\n",
        "data=\"\"\n",
        "count=0\n",
        "while(data!=secretWord and count<3):\n",
        "  data=input(\"Enter your guess: \")\n",
        "  count+=1\n",
        "\n",
        "  if(data==secretWord):\n",
        "      print(\"You guessed right\")\n",
        "      break\n",
        "  if count==3:\n",
        "    print(\"You failed my dear\")\n",
        "\n",
        "\n"
      ],
      "metadata": {
        "colab": {
          "base_uri": "https://localhost:8080/"
        },
        "id": "bfDlIsuDJRWS",
        "outputId": "b8ea539d-375c-4c35-c809-5afdda252bc3"
      },
      "execution_count": null,
      "outputs": [
        {
          "output_type": "stream",
          "name": "stdout",
          "text": [
            "Enter your guess: tas\n",
            "Enter your guess: tassm\n",
            "Enter your guess: tasffs\n",
            "You failed my dear\n"
          ]
        }
      ]
    },
    {
      "cell_type": "code",
      "source": [
        "#car game\n",
        "prog=\"help\"\n",
        "\n",
        "data=input(\"\")\n",
        "if(data.casefold()==prog.casefold()):\n",
        "  print('''\n",
        "  start -  to start the car\n",
        "  stop- to stop the car\n",
        "  quit- to exit\n",
        "\n",
        "  ''')\n",
        "\n",
        "  while True:\n",
        "    data=input()\n",
        "    if(data==\"start\"): print(\"Car started\")\n",
        "\n",
        "    elif(data==\"stop\"): print(\"Car stopped\")\n",
        "\n",
        "    elif(data==\"quit\"):\n",
        "      break\n",
        "    else :print(\"I do not understand!\")\n",
        "\n",
        "\n"
      ],
      "metadata": {
        "colab": {
          "base_uri": "https://localhost:8080/"
        },
        "id": "jzXgQ8n4NcTB",
        "outputId": "ba5863b3-9cf3-4326-f7ef-0546a0832ecf"
      },
      "execution_count": null,
      "outputs": [
        {
          "name": "stdout",
          "output_type": "stream",
          "text": [
            "Help\n",
            "\n",
            "  start -  to start the car\n",
            "  stop- to stop the car\n",
            "  quit- to exit\n",
            "  \n",
            "  \n",
            "start\n",
            "Car started\n",
            "stop\n",
            "Car stopped\n",
            "exit\n",
            "I do not understand!\n",
            "quit\n"
          ]
        }
      ]
    },
    {
      "cell_type": "code",
      "source": [
        "secretWord=\"tasmia\"\n",
        "count=1\n",
        "data=\"\"\n",
        "while(data!=secretWord and count<=3):\n",
        "  data=input(\"Enter your Guess: \")\n",
        "  count+=1\n",
        "  if(data==secretWord):\n",
        "    print(\"Your Guess is right!\")\n",
        "    break\n",
        "  elif():\n",
        "    print(\"Wrong Guess.\")\n",
        "\n",
        "  if(count>3):\n",
        "   break\n",
        "\n",
        "print(\"out of gueeses!\")\n"
      ],
      "metadata": {
        "colab": {
          "base_uri": "https://localhost:8080/"
        },
        "id": "q5lSd2PtZlKm",
        "outputId": "01bcaead-f11c-4313-a826-391044c67313"
      },
      "execution_count": null,
      "outputs": [
        {
          "name": "stdout",
          "output_type": "stream",
          "text": [
            "Enter your Guess: HJ\n",
            "Enter your Guess: KJ\n",
            "Enter your Guess: QW\n"
          ]
        }
      ]
    },
    {
      "cell_type": "markdown",
      "source": [
        "For loops in python is something tricky.\n",
        " syntex is easy\n",
        "  data=[1,2,3,4]\n",
        "  for x in data:\n",
        "  print(x)"
      ],
      "metadata": {
        "id": "pwQpO_mfcnYW"
      }
    },
    {
      "cell_type": "code",
      "source": [
        "data={1,2,3,4,5}\n",
        "data_dict=[]\n",
        "\n",
        "for goru in data:\n",
        "  print(str(goru) + \"high\" )"
      ],
      "metadata": {
        "colab": {
          "base_uri": "https://localhost:8080/"
        },
        "id": "O6R2FRkOc2JS",
        "outputId": "2cf9ae4d-bac4-4fb6-da09-707908c67860"
      },
      "execution_count": null,
      "outputs": [
        {
          "output_type": "stream",
          "name": "stdout",
          "text": [
            "1high\n",
            "2high\n",
            "3high\n",
            "4high\n",
            "5high\n"
          ]
        }
      ]
    },
    {
      "cell_type": "markdown",
      "source": [
        "make a sequence of 1,3,6,10,15 and print it till given n:\n",
        "\n",
        "\n",
        "\n",
        "\n",
        "\n"
      ],
      "metadata": {
        "id": "p-d9Y_XifyBX"
      }
    },
    {
      "cell_type": "code",
      "source": [],
      "metadata": {
        "colab": {
          "base_uri": "https://localhost:8080/",
          "height": 211
        },
        "id": "tFOQbKBSgFd0",
        "outputId": "e99805cc-9d2b-4653-c77e-ed5f9238034e"
      },
      "execution_count": null,
      "outputs": [
        {
          "output_type": "error",
          "ename": "NameError",
          "evalue": "name 'seq' is not defined",
          "traceback": [
            "\u001b[0;31m---------------------------------------------------------------------------\u001b[0m",
            "\u001b[0;31mNameError\u001b[0m                                 Traceback (most recent call last)",
            "\u001b[0;32m<ipython-input-1-b240a151c7a7>\u001b[0m in \u001b[0;36m<cell line: 1>\u001b[0;34m()\u001b[0m\n\u001b[0;32m----> 1\u001b[0;31m \u001b[0mseq\u001b[0m\u001b[0;34m\u001b[0m\u001b[0;34m\u001b[0m\u001b[0m\n\u001b[0m\u001b[1;32m      2\u001b[0m \u001b[0md\u001b[0m\u001b[0;34m=\u001b[0m\u001b[0;36m1\u001b[0m\u001b[0;34m\u001b[0m\u001b[0;34m\u001b[0m\u001b[0m\n\u001b[1;32m      3\u001b[0m \u001b[0mn\u001b[0m\u001b[0;34m=\u001b[0m\u001b[0minput\u001b[0m\u001b[0;34m(\u001b[0m\u001b[0;34m\"Give the value of n : \"\u001b[0m\u001b[0;34m)\u001b[0m\u001b[0;34m\u001b[0m\u001b[0;34m\u001b[0m\u001b[0m\n\u001b[1;32m      4\u001b[0m \u001b[0;32mfor\u001b[0m \u001b[0mx\u001b[0m \u001b[0;32min\u001b[0m \u001b[0mrange\u001b[0m\u001b[0;34m(\u001b[0m\u001b[0mn\u001b[0m\u001b[0;34m)\u001b[0m\u001b[0;34m:\u001b[0m\u001b[0;34m\u001b[0m\u001b[0;34m\u001b[0m\u001b[0m\n\u001b[1;32m      5\u001b[0m   \u001b[0mseq\u001b[0m\u001b[0;34m[\u001b[0m\u001b[0mx\u001b[0m\u001b[0;34m]\u001b[0m\u001b[0;34m=\u001b[0m\u001b[0mseq\u001b[0m\u001b[0;34m[\u001b[0m\u001b[0mx\u001b[0m\u001b[0;34m]\u001b[0m\u001b[0;34m+\u001b[0m\u001b[0md\u001b[0m\u001b[0;34m\u001b[0m\u001b[0;34m\u001b[0m\u001b[0m\n",
            "\u001b[0;31mNameError\u001b[0m: name 'seq' is not defined"
          ]
        }
      ]
    }
  ]
}